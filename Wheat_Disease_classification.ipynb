{
 "cells": [
  {
   "attachments": {},
   "cell_type": "markdown",
   "id": "0bb55a17",
   "metadata": {},
   "source": [
    "# WHEAT DISEASE CLASSIFICATION"
   ]
  },
  {
   "attachments": {},
   "cell_type": "markdown",
   "id": "6ce3419b",
   "metadata": {},
   "source": [
    "# OBJECTIVE\n",
    "\n",
    "## The moto of this project is to Identify the appropriate wheat disease by image processing and classification using Convolutional neural network (CNN)."
   ]
  },
  {
   "attachments": {},
   "cell_type": "markdown",
   "id": "f7a2fc6c",
   "metadata": {},
   "source": [
    "# Installing and importing libraries\n"
   ]
  },
  {
   "cell_type": "code",
   "execution_count": 2,
   "id": "90d93d5f",
   "metadata": {},
   "outputs": [
    {
     "name": "stdout",
     "output_type": "stream",
     "text": [
      "Collecting opencv-python\n",
      "  Downloading opencv_python-4.5.5.64-cp36-abi3-win_amd64.whl (35.4 MB)\n",
      "     -------------------------------------- 35.4/35.4 MB 538.6 kB/s eta 0:00:00\n",
      "Requirement already satisfied: numpy>=1.14.5 in c:\\users\\akash tamate\\appdata\\local\\programs\\python\\python310\\lib\\site-packages (from opencv-python) (1.22.3)\n",
      "Installing collected packages: opencv-python\n",
      "Successfully installed opencv-python-4.5.5.64\n"
     ]
    }
   ],
   "source": [
    "! pip install opencv-python"
   ]
  },
  {
   "cell_type": "code",
   "execution_count": 115,
   "id": "cb02a25f",
   "metadata": {},
   "outputs": [
    {
     "name": "stdout",
     "output_type": "stream",
     "text": [
      "Collecting pandas\n",
      "  Downloading pandas-1.4.2-cp310-cp310-win_amd64.whl (10.6 MB)\n",
      "     ---------------------------------------- 10.6/10.6 MB 1.1 MB/s eta 0:00:00\n",
      "Requirement already satisfied: python-dateutil>=2.8.1 in c:\\users\\akash tamate\\appdata\\local\\programs\\python\\python310\\lib\\site-packages (from pandas) (2.8.2)\n",
      "Requirement already satisfied: pytz>=2020.1 in c:\\users\\akash tamate\\appdata\\local\\programs\\python\\python310\\lib\\site-packages (from pandas) (2022.1)\n",
      "Requirement already satisfied: numpy>=1.21.0 in c:\\users\\akash tamate\\appdata\\local\\programs\\python\\python310\\lib\\site-packages (from pandas) (1.22.3)\n",
      "Requirement already satisfied: six>=1.5 in c:\\users\\akash tamate\\appdata\\local\\programs\\python\\python310\\lib\\site-packages (from python-dateutil>=2.8.1->pandas) (1.16.0)\n",
      "Installing collected packages: pandas\n",
      "Successfully installed pandas-1.4.2\n"
     ]
    }
   ],
   "source": [
    "! pip install pandas"
   ]
  },
  {
   "cell_type": "code",
   "execution_count": 43,
   "id": "3e0d4a84",
   "metadata": {},
   "outputs": [
    {
     "name": "stdout",
     "output_type": "stream",
     "text": [
      "Collecting keras\n",
      "  Downloading keras-2.8.0-py2.py3-none-any.whl (1.4 MB)\n",
      "     ---------------------------------------- 1.4/1.4 MB 263.8 kB/s eta 0:00:00\n",
      "Installing collected packages: keras\n",
      "Successfully installed keras-2.8.0\n"
     ]
    }
   ],
   "source": [
    "!pip install keras"
   ]
  },
  {
   "cell_type": "code",
   "execution_count": 22,
   "id": "57f754f5",
   "metadata": {},
   "outputs": [
    {
     "name": "stdout",
     "output_type": "stream",
     "text": [
      "Collecting sklearn\n",
      "  Downloading sklearn-0.0.tar.gz (1.1 kB)\n",
      "  Preparing metadata (setup.py): started\n",
      "  Preparing metadata (setup.py): finished with status 'done'\n",
      "Collecting scikit-learn\n",
      "  Downloading scikit_learn-1.0.2-cp310-cp310-win_amd64.whl (7.2 MB)\n",
      "     ---------------------------------------- 7.2/7.2 MB 4.1 MB/s eta 0:00:00\n",
      "Collecting scipy>=1.1.0\n",
      "  Downloading scipy-1.8.0-cp310-cp310-win_amd64.whl (37.0 MB)\n",
      "     ---------------------------------------- 37.0/37.0 MB 3.8 MB/s eta 0:00:00\n",
      "Requirement already satisfied: numpy>=1.14.6 in c:\\users\\akash tamate\\appdata\\local\\programs\\python\\python310\\lib\\site-packages (from scikit-learn->sklearn) (1.22.3)\n",
      "Collecting joblib>=0.11\n",
      "  Downloading joblib-1.1.0-py2.py3-none-any.whl (306 kB)\n",
      "     -------------------------------------- 307.0/307.0 KB 4.7 MB/s eta 0:00:00\n",
      "Collecting threadpoolctl>=2.0.0\n",
      "  Downloading threadpoolctl-3.1.0-py3-none-any.whl (14 kB)\n",
      "Building wheels for collected packages: sklearn\n",
      "  Building wheel for sklearn (setup.py): started\n",
      "  Building wheel for sklearn (setup.py): finished with status 'done'\n",
      "  Created wheel for sklearn: filename=sklearn-0.0-py2.py3-none-any.whl size=1310 sha256=342e67f4a60044a2f0bb86d50c6775365b4bbe7a3126105e0109bff258640127\n",
      "  Stored in directory: c:\\users\\akash tamate\\appdata\\local\\pip\\cache\\wheels\\9b\\13\\01\\6f3a7fd641f90e1f6c8c7cded057f3394f451f340371c68f3d\n",
      "Successfully built sklearn\n",
      "Installing collected packages: threadpoolctl, scipy, joblib, scikit-learn, sklearn\n",
      "Successfully installed joblib-1.1.0 scikit-learn-1.0.2 scipy-1.8.0 sklearn-0.0 threadpoolctl-3.1.0\n"
     ]
    }
   ],
   "source": [
    "!pip install sklearn"
   ]
  },
  {
   "cell_type": "code",
   "execution_count": 50,
   "id": "494e6482",
   "metadata": {
    "scrolled": false
   },
   "outputs": [
    {
     "name": "stdout",
     "output_type": "stream",
     "text": [
      "Collecting tensorflow\n",
      "  Downloading tensorflow-2.8.0-cp310-cp310-win_amd64.whl (438.0 MB)\n",
      "     -------------------------------------- 438.0/438.0 MB 1.6 MB/s eta 0:00:00\n",
      "Collecting tensorboard<2.9,>=2.8\n",
      "  Downloading tensorboard-2.8.0-py3-none-any.whl (5.8 MB)\n",
      "     ---------------------------------------- 5.8/5.8 MB 3.2 MB/s eta 0:00:00\n",
      "Collecting keras-preprocessing>=1.1.1\n",
      "  Downloading Keras_Preprocessing-1.1.2-py2.py3-none-any.whl (42 kB)\n",
      "     ---------------------------------------- 42.6/42.6 KB 2.0 MB/s eta 0:00:00\n",
      "Collecting google-pasta>=0.1.1\n",
      "  Downloading google_pasta-0.2.0-py3-none-any.whl (57 kB)\n",
      "     ---------------------------------------- 57.5/57.5 KB ? eta 0:00:00\n",
      "Collecting opt-einsum>=2.3.2\n",
      "  Downloading opt_einsum-3.3.0-py3-none-any.whl (65 kB)\n",
      "     ---------------------------------------- 65.5/65.5 KB 1.8 MB/s eta 0:00:00\n",
      "Collecting astunparse>=1.6.0\n",
      "  Downloading astunparse-1.6.3-py2.py3-none-any.whl (12 kB)\n",
      "Collecting wrapt>=1.11.0\n",
      "  Downloading wrapt-1.14.0-cp310-cp310-win_amd64.whl (36 kB)\n",
      "Requirement already satisfied: numpy>=1.20 in c:\\users\\akash tamate\\appdata\\local\\programs\\python\\python310\\lib\\site-packages (from tensorflow) (1.22.3)\n",
      "Collecting grpcio<2.0,>=1.24.3\n",
      "  Downloading grpcio-1.44.0-cp310-cp310-win_amd64.whl (3.4 MB)\n",
      "     ---------------------------------------- 3.4/3.4 MB 2.6 MB/s eta 0:00:00\n",
      "Collecting gast>=0.2.1\n",
      "  Downloading gast-0.5.3-py3-none-any.whl (19 kB)\n",
      "Collecting libclang>=9.0.1\n",
      "  Downloading libclang-14.0.1-py2.py3-none-win_amd64.whl (14.2 MB)\n",
      "     ---------------------------------------- 14.2/14.2 MB 3.4 MB/s eta 0:00:00\n",
      "Collecting absl-py>=0.4.0\n",
      "  Downloading absl_py-1.0.0-py3-none-any.whl (126 kB)\n",
      "     -------------------------------------- 126.7/126.7 KB 3.6 MB/s eta 0:00:00\n",
      "Collecting typing-extensions>=3.6.6\n",
      "  Downloading typing_extensions-4.2.0-py3-none-any.whl (24 kB)\n",
      "Requirement already satisfied: six>=1.12.0 in c:\\users\\akash tamate\\appdata\\local\\programs\\python\\python310\\lib\\site-packages (from tensorflow) (1.16.0)\n",
      "Collecting termcolor>=1.1.0\n",
      "  Downloading termcolor-1.1.0.tar.gz (3.9 kB)\n",
      "  Preparing metadata (setup.py): started\n",
      "  Preparing metadata (setup.py): finished with status 'done'\n",
      "Collecting tf-estimator-nightly==2.8.0.dev2021122109\n",
      "  Downloading tf_estimator_nightly-2.8.0.dev2021122109-py2.py3-none-any.whl (462 kB)\n",
      "     -------------------------------------- 462.5/462.5 KB 2.6 MB/s eta 0:00:00\n",
      "Requirement already satisfied: keras<2.9,>=2.8.0rc0 in c:\\users\\akash tamate\\appdata\\local\\programs\\python\\python310\\lib\\site-packages (from tensorflow) (2.8.0)\n",
      "Collecting protobuf>=3.9.2\n",
      "  Downloading protobuf-3.20.1-cp310-cp310-win_amd64.whl (903 kB)\n",
      "     -------------------------------------- 903.8/903.8 KB 3.4 MB/s eta 0:00:00\n",
      "Collecting tensorflow-io-gcs-filesystem>=0.23.1\n",
      "  Downloading tensorflow_io_gcs_filesystem-0.25.0-cp310-cp310-win_amd64.whl (1.5 MB)\n",
      "     ---------------------------------------- 1.5/1.5 MB 4.2 MB/s eta 0:00:00\n",
      "Requirement already satisfied: setuptools in c:\\users\\akash tamate\\appdata\\local\\programs\\python\\python310\\lib\\site-packages (from tensorflow) (58.1.0)\n",
      "Collecting flatbuffers>=1.12\n",
      "  Downloading flatbuffers-2.0-py2.py3-none-any.whl (26 kB)\n",
      "Collecting h5py>=2.9.0\n",
      "  Downloading h5py-3.6.0-cp310-cp310-win_amd64.whl (2.8 MB)\n",
      "     ---------------------------------------- 2.8/2.8 MB 2.5 MB/s eta 0:00:00\n",
      "Collecting wheel<1.0,>=0.23.0\n",
      "  Downloading wheel-0.37.1-py2.py3-none-any.whl (35 kB)\n",
      "Collecting werkzeug>=0.11.15\n",
      "  Downloading Werkzeug-2.1.1-py3-none-any.whl (224 kB)\n",
      "     -------------------------------------- 224.7/224.7 KB 2.7 MB/s eta 0:00:00\n",
      "Collecting markdown>=2.6.8\n",
      "  Downloading Markdown-3.3.6-py3-none-any.whl (97 kB)\n",
      "     ---------------------------------------- 97.8/97.8 KB 2.8 MB/s eta 0:00:00\n",
      "Collecting google-auth<3,>=1.6.3\n",
      "  Downloading google_auth-2.6.6-py2.py3-none-any.whl (156 kB)\n",
      "     -------------------------------------- 156.7/156.7 KB 4.7 MB/s eta 0:00:00\n",
      "Collecting tensorboard-data-server<0.7.0,>=0.6.0\n",
      "  Downloading tensorboard_data_server-0.6.1-py3-none-any.whl (2.4 kB)\n",
      "Collecting google-auth-oauthlib<0.5,>=0.4.1\n",
      "  Downloading google_auth_oauthlib-0.4.6-py2.py3-none-any.whl (18 kB)\n",
      "Collecting tensorboard-plugin-wit>=1.6.0\n",
      "  Downloading tensorboard_plugin_wit-1.8.1-py3-none-any.whl (781 kB)\n",
      "     -------------------------------------- 781.3/781.3 KB 2.9 MB/s eta 0:00:00\n",
      "Requirement already satisfied: requests<3,>=2.21.0 in c:\\users\\akash tamate\\appdata\\local\\programs\\python\\python310\\lib\\site-packages (from tensorboard<2.9,>=2.8->tensorflow) (2.27.1)\n",
      "Collecting rsa<5,>=3.1.4\n",
      "  Downloading rsa-4.8-py3-none-any.whl (39 kB)\n",
      "Collecting pyasn1-modules>=0.2.1\n",
      "  Downloading pyasn1_modules-0.2.8-py2.py3-none-any.whl (155 kB)\n",
      "     -------------------------------------- 155.3/155.3 KB 3.1 MB/s eta 0:00:00\n",
      "Collecting cachetools<6.0,>=2.0.0\n",
      "  Downloading cachetools-5.0.0-py3-none-any.whl (9.1 kB)\n",
      "Collecting requests-oauthlib>=0.7.0\n",
      "  Downloading requests_oauthlib-1.3.1-py2.py3-none-any.whl (23 kB)\n",
      "Requirement already satisfied: urllib3<1.27,>=1.21.1 in c:\\users\\akash tamate\\appdata\\local\\programs\\python\\python310\\lib\\site-packages (from requests<3,>=2.21.0->tensorboard<2.9,>=2.8->tensorflow) (1.26.9)\n",
      "Requirement already satisfied: charset-normalizer~=2.0.0 in c:\\users\\akash tamate\\appdata\\local\\programs\\python\\python310\\lib\\site-packages (from requests<3,>=2.21.0->tensorboard<2.9,>=2.8->tensorflow) (2.0.12)\n",
      "Requirement already satisfied: certifi>=2017.4.17 in c:\\users\\akash tamate\\appdata\\local\\programs\\python\\python310\\lib\\site-packages (from requests<3,>=2.21.0->tensorboard<2.9,>=2.8->tensorflow) (2021.10.8)\n",
      "Requirement already satisfied: idna<4,>=2.5 in c:\\users\\akash tamate\\appdata\\local\\programs\\python\\python310\\lib\\site-packages (from requests<3,>=2.21.0->tensorboard<2.9,>=2.8->tensorflow) (3.3)\n",
      "Collecting pyasn1<0.5.0,>=0.4.6\n",
      "  Downloading pyasn1-0.4.8-py2.py3-none-any.whl (77 kB)\n",
      "     ---------------------------------------- 77.1/77.1 KB 4.2 MB/s eta 0:00:00\n",
      "Collecting oauthlib>=3.0.0\n",
      "  Downloading oauthlib-3.2.0-py3-none-any.whl (151 kB)\n",
      "     -------------------------------------- 151.5/151.5 KB 2.3 MB/s eta 0:00:00\n",
      "Using legacy 'setup.py install' for termcolor, since package 'wheel' is not installed.\n",
      "Installing collected packages: tf-estimator-nightly, termcolor, tensorboard-plugin-wit, pyasn1, libclang, flatbuffers, wrapt, wheel, werkzeug, typing-extensions, tensorflow-io-gcs-filesystem, tensorboard-data-server, rsa, pyasn1-modules, protobuf, opt-einsum, oauthlib, markdown, keras-preprocessing, h5py, grpcio, google-pasta, gast, cachetools, absl-py, requests-oauthlib, google-auth, astunparse, google-auth-oauthlib, tensorboard, tensorflow\n",
      "  Running setup.py install for termcolor: started\n",
      "  Running setup.py install for termcolor: finished with status 'done'\n",
      "Successfully installed absl-py-1.0.0 astunparse-1.6.3 cachetools-5.0.0 flatbuffers-2.0 gast-0.5.3 google-auth-2.6.6 google-auth-oauthlib-0.4.6 google-pasta-0.2.0 grpcio-1.44.0 h5py-3.6.0 keras-preprocessing-1.1.2 libclang-14.0.1 markdown-3.3.6 oauthlib-3.2.0 opt-einsum-3.3.0 protobuf-3.20.1 pyasn1-0.4.8 pyasn1-modules-0.2.8 requests-oauthlib-1.3.1 rsa-4.8 tensorboard-2.8.0 tensorboard-data-server-0.6.1 tensorboard-plugin-wit-1.8.1 tensorflow-2.8.0 tensorflow-io-gcs-filesystem-0.25.0 termcolor-1.1.0 tf-estimator-nightly-2.8.0.dev2021122109 typing-extensions-4.2.0 werkzeug-2.1.1 wheel-0.37.1 wrapt-1.14.0\n"
     ]
    }
   ],
   "source": [
    "! pip install --no-cache-dir tensorflow"
   ]
  },
  {
   "cell_type": "code",
   "execution_count": 109,
   "id": "efdb5306",
   "metadata": {},
   "outputs": [
    {
     "name": "stdout",
     "output_type": "stream",
     "text": [
      "Collecting seaborn\n",
      "  Downloading seaborn-0.11.2-py3-none-any.whl (292 kB)\n",
      "     ------------------------------------ 292.8/292.8 KB 464.0 kB/s eta 0:00:00\n",
      "Requirement already satisfied: matplotlib>=2.2 in c:\\users\\akash tamate\\appdata\\local\\programs\\python\\python310\\lib\\site-packages (from seaborn) (3.5.1)\n",
      "Requirement already satisfied: scipy>=1.0 in c:\\users\\akash tamate\\appdata\\local\\programs\\python\\python310\\lib\\site-packages (from seaborn) (1.8.0)\n",
      "Requirement already satisfied: pandas>=0.23 in c:\\users\\akash tamate\\appdata\\local\\programs\\python\\python310\\lib\\site-packages (from seaborn) (1.4.2)\n",
      "Requirement already satisfied: numpy>=1.15 in c:\\users\\akash tamate\\appdata\\local\\programs\\python\\python310\\lib\\site-packages (from seaborn) (1.22.3)\n",
      "Requirement already satisfied: cycler>=0.10 in c:\\users\\akash tamate\\appdata\\local\\programs\\python\\python310\\lib\\site-packages (from matplotlib>=2.2->seaborn) (0.11.0)\n",
      "Requirement already satisfied: packaging>=20.0 in c:\\users\\akash tamate\\appdata\\local\\programs\\python\\python310\\lib\\site-packages (from matplotlib>=2.2->seaborn) (21.3)\n",
      "Requirement already satisfied: pillow>=6.2.0 in c:\\users\\akash tamate\\appdata\\local\\programs\\python\\python310\\lib\\site-packages (from matplotlib>=2.2->seaborn) (9.1.0)\n",
      "Requirement already satisfied: pyparsing>=2.2.1 in c:\\users\\akash tamate\\appdata\\local\\programs\\python\\python310\\lib\\site-packages (from matplotlib>=2.2->seaborn) (3.0.8)\n",
      "Requirement already satisfied: kiwisolver>=1.0.1 in c:\\users\\akash tamate\\appdata\\local\\programs\\python\\python310\\lib\\site-packages (from matplotlib>=2.2->seaborn) (1.4.2)\n",
      "Requirement already satisfied: python-dateutil>=2.7 in c:\\users\\akash tamate\\appdata\\local\\programs\\python\\python310\\lib\\site-packages (from matplotlib>=2.2->seaborn) (2.8.2)\n",
      "Requirement already satisfied: fonttools>=4.22.0 in c:\\users\\akash tamate\\appdata\\local\\programs\\python\\python310\\lib\\site-packages (from matplotlib>=2.2->seaborn) (4.32.0)\n",
      "Requirement already satisfied: pytz>=2020.1 in c:\\users\\akash tamate\\appdata\\local\\programs\\python\\python310\\lib\\site-packages (from pandas>=0.23->seaborn) (2022.1)\n",
      "Requirement already satisfied: six>=1.5 in c:\\users\\akash tamate\\appdata\\local\\programs\\python\\python310\\lib\\site-packages (from python-dateutil>=2.7->matplotlib>=2.2->seaborn) (1.16.0)\n",
      "Installing collected packages: seaborn\n",
      "Successfully installed seaborn-0.11.2\n"
     ]
    }
   ],
   "source": [
    "! pip install seaborn"
   ]
  },
  {
   "cell_type": "code",
   "execution_count": 2,
   "id": "123a4cf7",
   "metadata": {},
   "outputs": [],
   "source": [
    "import numpy as np\n",
    "import pandas as pd\n",
    "import matplotlib.pyplot as plt\n",
    "from tensorflow import keras\n",
    "import tensorflow as tf\n",
    "import cv2 #To convert images to array\n",
    "import os #To specify location of images\n",
    "import random\n",
    "import math"
   ]
  },
  {
   "attachments": {},
   "cell_type": "markdown",
   "id": "c8a25e85",
   "metadata": {},
   "source": [
    "# METHODOLOGY\n",
    "\n",
    "## To achieve the above mentioned objective, a series of cronological methods have been followed as listed below:\n",
    "\n",
    "- **Data collection and preprocessing**: Image dataset of various diseased and healthy leaves is stored in a directory and is classified. Images of prominent wheat diseases such as Leaf rust, Nitrogen deficiency and septoria is used in this model. Along with the diseased images a set of healthy leaves images are also fed to the model for better classification\n",
    "\n",
    "- **Establishing a baseline** : In this step, a process of building a datum model is carried out. A model is created with certian number of layers (Convolutional, dense, etc.), activation function, epochs, loss function, etc. Furthermore, the model is complied, deployed and evaluated.\n",
    "\n",
    "- **Enhancing the model** : In this step, the baseline model is rebuilt by playing with the parameters of the model. With the help of graphical visualization the model's accuracy or performance can be evaluated and enhanced.\n",
    "\n"
   ]
  },
  {
   "attachments": {},
   "cell_type": "markdown",
   "id": "659f0368",
   "metadata": {},
   "source": [
    "# DATA PREPROCESSING"
   ]
  },
  {
   "cell_type": "code",
   "execution_count": 3,
   "id": "3f687052",
   "metadata": {},
   "outputs": [],
   "source": [
    "DIR = (path to dataset)\n",
    "#Creating a Dir\n",
    "catg = ['Healthy', 'LeafRust', 'NDeficiency', 'septoria']"
   ]
  },
  {
   "cell_type": "code",
   "execution_count": 4,
   "id": "a30b36ce",
   "metadata": {},
   "outputs": [],
   "source": [
    "IMG_SIZE = 120\n",
    "\n",
    "data = []\n",
    "\n",
    "for category in catg:\n",
    "    folder = os.path.join(DIR, category) \n",
    "    #Joins 2 different paths, in this case its DIR and Catg\n",
    "    label = catg.index(category)\n",
    "    for img in os.listdir(folder): #Lists all the particular dir present in the folder\n",
    "        img_path = os.path.join(folder, img)\n",
    "        img_arr = cv2.imread(img_path)\n",
    "        img_arr = cv2.resize(img_arr, (IMG_SIZE, IMG_SIZE))\n",
    "        data.append([img_arr, label])"
   ]
  },
  {
   "cell_type": "code",
   "execution_count": 5,
   "id": "5fa2b0f1",
   "metadata": {},
   "outputs": [
    {
     "data": {
      "text/plain": [
       "908"
      ]
     },
     "execution_count": 5,
     "metadata": {},
     "output_type": "execute_result"
    }
   ],
   "source": [
    "len(data)"
   ]
  },
  {
   "cell_type": "code",
   "execution_count": 6,
   "id": "57bd32d7",
   "metadata": {},
   "outputs": [],
   "source": [
    "random.shuffle(data)"
   ]
  },
  {
   "cell_type": "code",
   "execution_count": 106,
   "id": "869913e1",
   "metadata": {},
   "outputs": [],
   "source": [
    "X = []\n",
    "y = []\n",
    "\n",
    "for features, labels in data:\n",
    "    X.append(features)\n",
    "    y.append(labels)"
   ]
  },
  {
   "cell_type": "code",
   "execution_count": 107,
   "id": "75f51c83",
   "metadata": {},
   "outputs": [],
   "source": [
    "X = np.array(X)\n",
    "y = np.array(y)"
   ]
  },
  {
   "attachments": {},
   "cell_type": "markdown",
   "id": "c35e2786",
   "metadata": {},
   "source": [
    "# Establishing the baseline/datum model"
   ]
  },
  {
   "cell_type": "code",
   "execution_count": 9,
   "id": "cb35f9dd",
   "metadata": {},
   "outputs": [],
   "source": [
    "X = X/255 #scaling"
   ]
  },
  {
   "cell_type": "code",
   "execution_count": 10,
   "id": "258d6ee2",
   "metadata": {},
   "outputs": [
    {
     "data": {
      "text/plain": [
       "(908, 120, 120, 3)"
      ]
     },
     "execution_count": 10,
     "metadata": {},
     "output_type": "execute_result"
    }
   ],
   "source": [
    "X.shape"
   ]
  },
  {
   "cell_type": "code",
   "execution_count": 11,
   "id": "a32bc763",
   "metadata": {},
   "outputs": [],
   "source": [
    "from keras.models import Sequential\n",
    "from keras.layers import Conv2D, MaxPooling2D, Flatten, Dense"
   ]
  },
  {
   "cell_type": "code",
   "execution_count": 12,
   "id": "f1dcf786",
   "metadata": {},
   "outputs": [],
   "source": [
    "model = Sequential()"
   ]
  },
  {
   "cell_type": "code",
   "execution_count": 13,
   "id": "76d5b551",
   "metadata": {},
   "outputs": [],
   "source": [
    "model.add(Conv2D(32, (3, 3), activation = 'relu'))\n",
    "model.add(MaxPooling2D((2, 2)))\n",
    "\n",
    "model.add(Conv2D(32, (3, 3), activation = 'relu'))\n",
    "model.add(MaxPooling2D((2, 2)))\n",
    "\n",
    "model.add(Conv2D(32, (3, 3), activation = 'relu'))\n",
    "model.add(MaxPooling2D((2, 2)))\n",
    "\n",
    "model.add(Conv2D(32, (3, 3), activation = 'relu'))\n",
    "model.add(MaxPooling2D((2, 2)))\n",
    "\n",
    "model.add(Flatten())\n",
    "\n",
    "model.add(Dense(64, input_shape = X.shape[1:], activation = 'relu'))\n",
    "\n",
    "model.add(Dense(4,activation = 'softmax'))"
   ]
  },
  {
   "cell_type": "code",
   "execution_count": 14,
   "id": "e3b8a40e",
   "metadata": {},
   "outputs": [],
   "source": [
    "model.compile(optimizer ='adam', loss = 'sparse_categorical_crossentropy', metrics = ['accuracy'])"
   ]
  },
  {
   "cell_type": "code",
   "execution_count": 15,
   "id": "5099e076",
   "metadata": {},
   "outputs": [
    {
     "name": "stdout",
     "output_type": "stream",
     "text": [
      "Epoch 1/10\n",
      "205/205 [==============================] - 11s 47ms/step - loss: 0.8889 - accuracy: 0.5312 - val_loss: 0.6849 - val_accuracy: 0.6154\n",
      "Epoch 2/10\n",
      "205/205 [==============================] - 9s 45ms/step - loss: 0.6765 - accuracy: 0.6707 - val_loss: 0.5553 - val_accuracy: 0.8132\n",
      "Epoch 3/10\n",
      "205/205 [==============================] - 9s 45ms/step - loss: 0.4081 - accuracy: 0.8494 - val_loss: 0.4372 - val_accuracy: 0.7802\n",
      "Epoch 4/10\n",
      "205/205 [==============================] - 9s 45ms/step - loss: 0.2539 - accuracy: 0.9180 - val_loss: 0.2662 - val_accuracy: 0.9011\n",
      "Epoch 5/10\n",
      "205/205 [==============================] - 9s 45ms/step - loss: 0.2191 - accuracy: 0.9266 - val_loss: 0.2398 - val_accuracy: 0.9451\n",
      "Epoch 6/10\n",
      "205/205 [==============================] - 9s 45ms/step - loss: 0.1547 - accuracy: 0.9449 - val_loss: 0.1919 - val_accuracy: 0.9670\n",
      "Epoch 7/10\n",
      "205/205 [==============================] - 9s 45ms/step - loss: 0.1879 - accuracy: 0.9364 - val_loss: 0.4993 - val_accuracy: 0.9121\n",
      "Epoch 8/10\n",
      "205/205 [==============================] - 9s 45ms/step - loss: 0.1429 - accuracy: 0.9547 - val_loss: 0.1840 - val_accuracy: 0.9670\n",
      "Epoch 9/10\n",
      "205/205 [==============================] - 9s 45ms/step - loss: 0.0982 - accuracy: 0.9731 - val_loss: 0.2976 - val_accuracy: 0.9670\n",
      "Epoch 10/10\n",
      "205/205 [==============================] - 9s 45ms/step - loss: 0.0951 - accuracy: 0.9755 - val_loss: 0.3346 - val_accuracy: 0.9560\n"
     ]
    }
   ],
   "source": [
    "history = model.fit(X, y, epochs=10, batch_size = 4, validation_split=0.1)"
   ]
  },
  {
   "cell_type": "code",
   "execution_count": 16,
   "id": "e7f43aa0",
   "metadata": {},
   "outputs": [
    {
     "data": {
      "text/html": [
       "<div>\n",
       "<style scoped>\n",
       "    .dataframe tbody tr th:only-of-type {\n",
       "        vertical-align: middle;\n",
       "    }\n",
       "\n",
       "    .dataframe tbody tr th {\n",
       "        vertical-align: top;\n",
       "    }\n",
       "\n",
       "    .dataframe thead th {\n",
       "        text-align: right;\n",
       "    }\n",
       "</style>\n",
       "<table border=\"1\" class=\"dataframe\">\n",
       "  <thead>\n",
       "    <tr style=\"text-align: right;\">\n",
       "      <th></th>\n",
       "      <th>loss</th>\n",
       "      <th>accuracy</th>\n",
       "      <th>val_loss</th>\n",
       "      <th>val_accuracy</th>\n",
       "      <th>epoch</th>\n",
       "    </tr>\n",
       "  </thead>\n",
       "  <tbody>\n",
       "    <tr>\n",
       "      <th>5</th>\n",
       "      <td>0.154665</td>\n",
       "      <td>0.944920</td>\n",
       "      <td>0.191894</td>\n",
       "      <td>0.967033</td>\n",
       "      <td>5</td>\n",
       "    </tr>\n",
       "    <tr>\n",
       "      <th>6</th>\n",
       "      <td>0.187914</td>\n",
       "      <td>0.936352</td>\n",
       "      <td>0.499315</td>\n",
       "      <td>0.912088</td>\n",
       "      <td>6</td>\n",
       "    </tr>\n",
       "    <tr>\n",
       "      <th>7</th>\n",
       "      <td>0.142888</td>\n",
       "      <td>0.954712</td>\n",
       "      <td>0.183990</td>\n",
       "      <td>0.967033</td>\n",
       "      <td>7</td>\n",
       "    </tr>\n",
       "    <tr>\n",
       "      <th>8</th>\n",
       "      <td>0.098178</td>\n",
       "      <td>0.973072</td>\n",
       "      <td>0.297594</td>\n",
       "      <td>0.967033</td>\n",
       "      <td>8</td>\n",
       "    </tr>\n",
       "    <tr>\n",
       "      <th>9</th>\n",
       "      <td>0.095109</td>\n",
       "      <td>0.975520</td>\n",
       "      <td>0.334586</td>\n",
       "      <td>0.956044</td>\n",
       "      <td>9</td>\n",
       "    </tr>\n",
       "  </tbody>\n",
       "</table>\n",
       "</div>"
      ],
      "text/plain": [
       "       loss  accuracy  val_loss  val_accuracy  epoch\n",
       "5  0.154665  0.944920  0.191894      0.967033      5\n",
       "6  0.187914  0.936352  0.499315      0.912088      6\n",
       "7  0.142888  0.954712  0.183990      0.967033      7\n",
       "8  0.098178  0.973072  0.297594      0.967033      8\n",
       "9  0.095109  0.975520  0.334586      0.956044      9"
      ]
     },
     "execution_count": 16,
     "metadata": {},
     "output_type": "execute_result"
    }
   ],
   "source": [
    "hist = history.history\n",
    "hist = pd.DataFrame(hist)\n",
    "hist['epoch'] = history.epoch\n",
    "hist.tail()"
   ]
  },
  {
   "cell_type": "code",
   "execution_count": 17,
   "id": "1c6092e5",
   "metadata": {},
   "outputs": [
    {
     "data": {
      "image/png": "[encoded data removed]",
      "text/plain": [
       "<Figure size 432x288 with 1 Axes>"
      ]
     },
     "metadata": {
      "needs_background": "light"
     },
     "output_type": "display_data"
    }
   ],
   "source": [
    "plt.plot(hist['loss'], hist['epoch'])\n",
    "plt.plot(hist['val_loss'], hist['epoch'], color = 'r')\n",
    "\n",
    "plt.ylim([0,10])\n",
    "plt.xlabel('loss')\n",
    "plt.ylabel('epochs')\n",
    "plt.show()"
   ]
  },
  {
   "cell_type": "code",
   "execution_count": 18,
   "id": "b11b8737",
   "metadata": {},
   "outputs": [
    {
     "data": {
      "image/png": "[encoded data removed]",
      "text/plain": [
       "<Figure size 432x288 with 1 Axes>"
      ]
     },
     "metadata": {
      "needs_background": "light"
     },
     "output_type": "display_data"
    }
   ],
   "source": [
    "plt.plot(hist['accuracy'], hist['epoch'])\n",
    "plt.plot(hist['val_accuracy'], hist['epoch'], color = 'r')\n",
    "\n",
    "plt.ylim([0,10])\n",
    "plt.xlabel('accuracy')\n",
    "plt.ylabel('epochs')\n",
    "plt.show()"
   ]
  },
  {
   "cell_type": "code",
   "execution_count": 19,
   "id": "8392b480",
   "metadata": {},
   "outputs": [
    {
     "name": "stdout",
     "output_type": "stream",
     "text": [
      "test loss: 0.12917079031467438\n",
      "Test accuracy 97.02643156051636\n"
     ]
    }
   ],
   "source": [
    "score  = model.evaluate(X,y,verbose = 0)\n",
    "print(\"test loss:\",score[0])\n",
    "print('Test accuracy',score[1]*100)"
   ]
  },
  {
   "attachments": {},
   "cell_type": "markdown",
   "id": "e836e5af",
   "metadata": {},
   "source": [
    "# # Takeaways from datum model\n",
    "\n",
    "- **As the epochs increases the loss and validation loss decreases**\n",
    "- **As the epochs increases the accuracy of the model increases**\n",
    "- **The model is having an accuracy of 96% at 10th epoch**\n",
    "- **The testing accuracy is 94%**"
   ]
  },
  {
   "attachments": {},
   "cell_type": "markdown",
   "id": "ec805bc9",
   "metadata": {},
   "source": [
    "# Rebuilding the model"
   ]
  },
  {
   "cell_type": "code",
   "execution_count": 20,
   "id": "7fa5d24f",
   "metadata": {},
   "outputs": [],
   "source": [
    "model = Sequential()"
   ]
  },
  {
   "cell_type": "code",
   "execution_count": 21,
   "id": "e40ed8c2",
   "metadata": {},
   "outputs": [],
   "source": [
    "model.add(Conv2D(16, (3, 3), activation = 'relu'))\n",
    "model.add(MaxPooling2D((2, 2)))\n",
    "\n",
    "model.add(Conv2D(16, (3, 3), activation = 'relu'))\n",
    "model.add(MaxPooling2D((2, 2)))\n",
    "\n",
    "model.add(Flatten())\n",
    "\n",
    "model.add(Dense(32, input_shape = X.shape[1:], activation = 'relu'))\n",
    "\n",
    "model.add(Dense(4,activation = 'softmax'))"
   ]
  },
  {
   "cell_type": "code",
   "execution_count": 22,
   "id": "f9a09692",
   "metadata": {},
   "outputs": [],
   "source": [
    "model.compile(optimizer ='adam', loss = 'sparse_categorical_crossentropy', metrics = ['accuracy'])"
   ]
  },
  {
   "cell_type": "code",
   "execution_count": 23,
   "id": "53103149",
   "metadata": {},
   "outputs": [],
   "source": [
    "def loss_accuracy():\n",
    "    score  = model.evaluate(X,y,verbose = 0)\n",
    "    print(\"test loss:\",score[0])\n",
    "    print('Test accuracy',score[1]*100)"
   ]
  },
  {
   "cell_type": "code",
   "execution_count": 24,
   "id": "c829c71e",
   "metadata": {},
   "outputs": [],
   "source": [
    "def plot(hist, epochs):\n",
    "    plt.plot(hist['loss'], hist['epoch'])\n",
    "    plt.plot(hist['val_loss'], hist['epoch'], color = 'r')\n",
    "\n",
    "    plt.ylim([0,epochs])\n",
    "    plt.xlabel('loss')\n",
    "    plt.ylabel('epochs')\n",
    "    plt.show()\n",
    "    loss_accuracy()"
   ]
  },
  {
   "cell_type": "code",
   "execution_count": 25,
   "id": "93fee134",
   "metadata": {
    "scrolled": true
   },
   "outputs": [],
   "source": [
    "def fit_function(epochs, batch_size, val_split):\n",
    "    history = model.fit(X, y, epochs = epochs, validation_split = val_split, batch_size = batch_size)\n",
    "    hist = history.history\n",
    "    hist = pd.DataFrame(hist)\n",
    "    hist['epoch'] = history.epoch\n",
    "    plot(hist, epochs)\n",
    "    return hist.tail()"
   ]
  },
  {
   "cell_type": "code",
   "execution_count": 26,
   "id": "2a1e3c17",
   "metadata": {},
   "outputs": [
    {
     "name": "stdout",
     "output_type": "stream",
     "text": [
      "Epoch 1/10\n",
      "205/205 [==============================] - 7s 29ms/step - loss: 0.8415 - accuracy: 0.5900 - val_loss: 0.6508 - val_accuracy: 0.7912\n",
      "Epoch 2/10\n",
      "205/205 [==============================] - 6s 28ms/step - loss: 0.3325 - accuracy: 0.8776 - val_loss: 0.2946 - val_accuracy: 0.9231\n",
      "Epoch 3/10\n",
      "205/205 [==============================] - 6s 28ms/step - loss: 0.2126 - accuracy: 0.9229 - val_loss: 0.3276 - val_accuracy: 0.8901\n",
      "Epoch 4/10\n",
      "205/205 [==============================] - 6s 28ms/step - loss: 0.1275 - accuracy: 0.9535 - val_loss: 0.2580 - val_accuracy: 0.9341\n",
      "Epoch 5/10\n",
      "205/205 [==============================] - 6s 28ms/step - loss: 0.1718 - accuracy: 0.9412 - val_loss: 0.2922 - val_accuracy: 0.9011\n",
      "Epoch 6/10\n",
      "205/205 [==============================] - 6s 29ms/step - loss: 0.0915 - accuracy: 0.9767 - val_loss: 0.3053 - val_accuracy: 0.9121\n",
      "Epoch 7/10\n",
      "205/205 [==============================] - 6s 28ms/step - loss: 0.0541 - accuracy: 0.9865 - val_loss: 0.4523 - val_accuracy: 0.8901\n",
      "Epoch 8/10\n",
      "205/205 [==============================] - 6s 28ms/step - loss: 0.0595 - accuracy: 0.9816 - val_loss: 0.3374 - val_accuracy: 0.9231\n",
      "Epoch 9/10\n",
      "205/205 [==============================] - 6s 28ms/step - loss: 0.0485 - accuracy: 0.9816 - val_loss: 0.3228 - val_accuracy: 0.9341\n",
      "Epoch 10/10\n",
      "205/205 [==============================] - 6s 28ms/step - loss: 0.0176 - accuracy: 0.9988 - val_loss: 0.3159 - val_accuracy: 0.9670\n"
     ]
    },
    {
     "data": {
      "image/png": "[encoded data removed]",
      "text/plain": [
       "<Figure size 432x288 with 1 Axes>"
      ]
     },
     "metadata": {
      "needs_background": "light"
     },
     "output_type": "display_data"
    },
    {
     "name": "stdout",
     "output_type": "stream",
     "text": [
      "test loss: 0.038663722574710846\n",
      "Test accuracy 99.66960549354553\n"
     ]
    },
    {
     "data": {
      "text/html": [
       "<div>\n",
       "<style scoped>\n",
       "    .dataframe tbody tr th:only-of-type {\n",
       "        vertical-align: middle;\n",
       "    }\n",
       "\n",
       "    .dataframe tbody tr th {\n",
       "        vertical-align: top;\n",
       "    }\n",
       "\n",
       "    .dataframe thead th {\n",
       "        text-align: right;\n",
       "    }\n",
       "</style>\n",
       "<table border=\"1\" class=\"dataframe\">\n",
       "  <thead>\n",
       "    <tr style=\"text-align: right;\">\n",
       "      <th></th>\n",
       "      <th>loss</th>\n",
       "      <th>accuracy</th>\n",
       "      <th>val_loss</th>\n",
       "      <th>val_accuracy</th>\n",
       "      <th>epoch</th>\n",
       "    </tr>\n",
       "  </thead>\n",
       "  <tbody>\n",
       "    <tr>\n",
       "      <th>5</th>\n",
       "      <td>0.091511</td>\n",
       "      <td>0.976744</td>\n",
       "      <td>0.305331</td>\n",
       "      <td>0.912088</td>\n",
       "      <td>5</td>\n",
       "    </tr>\n",
       "    <tr>\n",
       "      <th>6</th>\n",
       "      <td>0.054146</td>\n",
       "      <td>0.986536</td>\n",
       "      <td>0.452293</td>\n",
       "      <td>0.890110</td>\n",
       "      <td>6</td>\n",
       "    </tr>\n",
       "    <tr>\n",
       "      <th>7</th>\n",
       "      <td>0.059496</td>\n",
       "      <td>0.981640</td>\n",
       "      <td>0.337386</td>\n",
       "      <td>0.923077</td>\n",
       "      <td>7</td>\n",
       "    </tr>\n",
       "    <tr>\n",
       "      <th>8</th>\n",
       "      <td>0.048532</td>\n",
       "      <td>0.981640</td>\n",
       "      <td>0.322779</td>\n",
       "      <td>0.934066</td>\n",
       "      <td>8</td>\n",
       "    </tr>\n",
       "    <tr>\n",
       "      <th>9</th>\n",
       "      <td>0.017635</td>\n",
       "      <td>0.998776</td>\n",
       "      <td>0.315908</td>\n",
       "      <td>0.967033</td>\n",
       "      <td>9</td>\n",
       "    </tr>\n",
       "  </tbody>\n",
       "</table>\n",
       "</div>"
      ],
      "text/plain": [
       "       loss  accuracy  val_loss  val_accuracy  epoch\n",
       "5  0.091511  0.976744  0.305331      0.912088      5\n",
       "6  0.054146  0.986536  0.452293      0.890110      6\n",
       "7  0.059496  0.981640  0.337386      0.923077      7\n",
       "8  0.048532  0.981640  0.322779      0.934066      8\n",
       "9  0.017635  0.998776  0.315908      0.967033      9"
      ]
     },
     "execution_count": 26,
     "metadata": {},
     "output_type": "execute_result"
    }
   ],
   "source": [
    "A = fit_function(10, 4, 0.1)\n",
    "A"
   ]
  },
  {
   "attachments": {},
   "cell_type": "markdown",
   "id": "245172cf",
   "metadata": {},
   "source": [
    "## After manipulating with layers of the model we arrived at a conclusion that, by decreasing the layers, the model performs well. This generally happens when overfitting arises. \n",
    "\n",
    "# The model accuracy has increased to 99% and validation accuracy has increased to 96%"
   ]
  },
  {
   "attachments": {},
   "cell_type": "markdown",
   "id": "23dbfb10",
   "metadata": {},
   "source": [
    "# Predicting the results"
   ]
  },
  {
   "cell_type": "code",
   "execution_count": 128,
   "id": "698b2681",
   "metadata": {},
   "outputs": [
    {
     "data": {
      "text/plain": [
       "[1, 3, 1, 0, 1]"
      ]
     },
     "execution_count": 128,
     "metadata": {},
     "output_type": "execute_result"
    }
   ],
   "source": [
    "y_predicted_labels=[np.argmax(i) for i in y_predicted]\n",
    "y_predicted_labels[:5]"
   ]
  },
  {
   "cell_type": "code",
   "execution_count": 31,
   "id": "2f88becd",
   "metadata": {},
   "outputs": [
    {
     "data": {
      "text/plain": [
       "array([0, 3, 1, 0, 1])"
      ]
     },
     "execution_count": 31,
     "metadata": {},
     "output_type": "execute_result"
    }
   ],
   "source": [
    "y[:5]"
   ]
  },
  {
   "cell_type": "code",
   "execution_count": 120,
   "id": "e7bc2393",
   "metadata": {},
   "outputs": [
    {
     "name": "stdout",
     "output_type": "stream",
     "text": [
      "ENTER ANY NUMBER BETWEEN 0 TO 907: 5\n"
     ]
    }
   ],
   "source": [
    "input_image = int(input('ENTER ANY NUMBER BETWEEN 0 TO 907: '))\n"
   ]
  },
  {
   "cell_type": "code",
   "execution_count": 121,
   "id": "5fab6349",
   "metadata": {},
   "outputs": [
    {
     "data": {
      "image/png": "[encoded data removed]",
      "text/plain": [
       "<Figure size 288x288 with 1 Axes>"
      ]
     },
     "metadata": {
      "needs_background": "light"
     },
     "output_type": "display_data"
    }
   ],
   "source": [
    "plt.matshow(X[input_image])\n",
    "plt.show()"
   ]
  },
  {
   "cell_type": "code",
   "execution_count": 122,
   "id": "73226ae5",
   "metadata": {},
   "outputs": [
    {
     "data": {
      "text/plain": [
       "1"
      ]
     },
     "execution_count": 122,
     "metadata": {},
     "output_type": "execute_result"
    }
   ],
   "source": [
    "y_actual = y[input_image]\n",
    "y_actual"
   ]
  },
  {
   "cell_type": "code",
   "execution_count": 123,
   "id": "4b4392d6",
   "metadata": {},
   "outputs": [],
   "source": [
    "y_predicted=model.predict(X)"
   ]
  },
  {
   "cell_type": "code",
   "execution_count": 124,
   "id": "0dfd7c9c",
   "metadata": {},
   "outputs": [
    {
     "data": {
      "text/plain": [
       "array([0., 1., 0., 0.], dtype=float32)"
      ]
     },
     "execution_count": 124,
     "metadata": {},
     "output_type": "execute_result"
    }
   ],
   "source": [
    "y_predicted[input_image]"
   ]
  },
  {
   "cell_type": "code",
   "execution_count": 125,
   "id": "b43eac6a",
   "metadata": {},
   "outputs": [
    {
     "data": {
      "text/plain": [
       "1"
      ]
     },
     "execution_count": 125,
     "metadata": {},
     "output_type": "execute_result"
    }
   ],
   "source": [
    "result = np.argmax(y_predicted[label1])\n",
    "result"
   ]
  },
  {
   "cell_type": "code",
   "execution_count": 126,
   "id": "c32e8c9f",
   "metadata": {},
   "outputs": [
    {
     "name": "stdout",
     "output_type": "stream",
     "text": [
      "The Wheat crop is affected with the leaf rust\n"
     ]
    }
   ],
   "source": [
    "if result == 0:\n",
    "    print('The Wheat crop is healthy')\n",
    "elif result == 1:\n",
    "    print('The Wheat crop is affected with the leaf rust')\n",
    "elif result == 2:\n",
    "    print('The Wheat crop has nitrogen deficiency')\n",
    "elif result == 3:\n",
    "    print('The Wheat crop is affected with Septoria')"
   ]
  },
  {
   "cell_type": "code",
   "execution_count": 129,
   "id": "5e44e4d2",
   "metadata": {},
   "outputs": [
    {
     "data": {
      "text/plain": [
       "<tf.Tensor: shape=(4, 4), dtype=int32, numpy=\n",
       "array([[ 92, 250,   1,   0],\n",
       "       [  0, 258,   0,   0],\n",
       "       [  0,  76, 137,   0],\n",
       "       [  0,   0,   1,  98]])>"
      ]
     },
     "execution_count": 129,
     "metadata": {},
     "output_type": "execute_result"
    }
   ],
   "source": [
    "cm=tf.math.confusion_matrix(labels=y,predictions=y_predicted_labels)\n",
    "cm"
   ]
  },
  {
   "cell_type": "code",
   "execution_count": 130,
   "id": "18732a94",
   "metadata": {},
   "outputs": [
    {
     "data": {
      "text/plain": [
       "Text(69.0, 0.5, 'truth')"
      ]
     },
     "execution_count": 130,
     "metadata": {},
     "output_type": "execute_result"
    },
    {
     "data": {
      "image/png": "[encoded data removed]",
      "text/plain": [
       "<Figure size 720x504 with 2 Axes>"
      ]
     },
     "metadata": {
      "needs_background": "light"
     },
     "output_type": "display_data"
    }
   ],
   "source": [
    "import seaborn as sn\n",
    "plt.figure(figsize=(10,7))\n",
    "sn.heatmap(cm,annot=True,fmt='d')\n",
    "plt.xlabel('predicted')\n",
    "plt.ylabel('truth')"
   ]
  },
  {
   "attachments": {},
   "cell_type": "markdown",
   "id": "b2fbf1f0",
   "metadata": {},
   "source": [
    "# CONCLUSION:\n",
    "\n",
    "## The trained model gives accurate results. The model successfuly identifies the wheat disease with almost 99% accuracy. "
   ]
  }
 ],
 "metadata": {
  "kernelspec": {
   "display_name": "Python 3 (ipykernel)",
   "language": "python",
   "name": "python3"
  },
  "language_info": {
   "codemirror_mode": {
    "name": "ipython",
    "version": 3
   },
   "file_extension": ".py",
   "mimetype": "text/x-python",
   "name": "python",
   "nbconvert_exporter": "python",
   "pygments_lexer": "ipython3",
   "version": "3.10.4"
  }
 },
 "nbformat": 4,
 "nbformat_minor": 5
}
